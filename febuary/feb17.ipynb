{
 "cells": [
  {
   "cell_type": "code",
   "execution_count": 2,
   "metadata": {},
   "outputs": [
    {
     "name": "stdout",
     "output_type": "stream",
     "text": [
      "0\n"
     ]
    }
   ],
   "source": [
    "list = [12,21,32,23,43,34,54,24,35,42]\n",
    "\n",
    "def binary_search(search,list):\n",
    "    low =0\n",
    "    high =len(list)-1\n",
    "\n",
    "    while low <=high:\n",
    "        mid =int((low+high)/2)\n",
    "        if list[mid] == search:\n",
    "            return mid\n",
    "        elif list[mid] < search:\n",
    "            low= mid +1 \n",
    "        else:\n",
    "            high =mid -1\n",
    "\n",
    "    return -1\n",
    "res =binary_search(12,list)\n",
    "if res != -1:\n",
    "    print(res)\n",
    "else:\n",
    "    print(\"not found\")"
   ]
  },
  {
   "cell_type": "code",
   "execution_count": null,
   "metadata": {},
   "outputs": [],
   "source": []
  }
 ],
 "metadata": {
  "kernelspec": {
   "display_name": "base",
   "language": "python",
   "name": "python3"
  },
  "language_info": {
   "codemirror_mode": {
    "name": "ipython",
    "version": 3
   },
   "file_extension": ".py",
   "mimetype": "text/x-python",
   "name": "python",
   "nbconvert_exporter": "python",
   "pygments_lexer": "ipython3",
   "version": "3.11.7"
  }
 },
 "nbformat": 4,
 "nbformat_minor": 2
}
