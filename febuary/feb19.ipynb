{
 "cells": [
  {
   "cell_type": "code",
   "execution_count": 3,
   "id": "cfad11b0-cbae-4a95-a00f-c2fa5e02fa43",
   "metadata": {},
   "outputs": [
    {
     "name": "stdout",
     "output_type": "stream",
     "text": [
      "10 = 4\n",
      "30 = 2\n",
      "20 = 2\n"
     ]
    }
   ],
   "source": [
    "# 17. Finding the frequency of elements in an array.\n",
    "    # arr = [10, 30, 10, 20, 10, 20, 30, 10]  O/p: 10=> 4 30 =>2  20=> 2\n",
    "\n",
    "arr = [10, 30, 10, 20, 10, 20, 30, 10]\n",
    "obj = {}\n",
    "\n",
    "for element in arr:\n",
    "    if element in obj:\n",
    "        obj[element] += 1\n",
    "    else:\n",
    "        obj[element] = 1\n",
    "\n",
    "for key, value in obj.items():\n",
    "    print(f'{key} = {value}')"
   ]
  },
  {
   "cell_type": "code",
   "execution_count": 7,
   "id": "a93c35ac-a24c-4c83-9918-87d48027f086",
   "metadata": {},
   "outputs": [
    {
     "name": "stdout",
     "output_type": "stream",
     "text": [
      "arr2 is a subset of arr1\n"
     ]
    }
   ],
   "source": [
    "# 19.check if array is subset of another array or not .if the arr2 contains elements which are there in arr1 then it is a subset of an array.\n",
    "# arr1=[1,3,4,5,2]\n",
    "# arr2=[2,4,3,1,7.5.15]\n",
    "# output: arr1 is subset of arr2\n",
    "# Print arr2 is subset or not subset of arr1\n",
    "# let arr1=[2,21,5,7,3,5,7,3,1,6,14,44];\n",
    "# let arr2=[7,3,1];\n",
    "\n",
    "\n",
    "def is_subset(arr1, arr2):\n",
    "    set1 = set(arr1)\n",
    "    set2 = set(arr2)\n",
    "    return set2.issubset(set1)\n",
    "\n",
    "arr1 = [1,3,5,7,9,11,13,15,17]\n",
    "arr2 = [3,5,7,11]\n",
    "\n",
    "if is_subset(arr1, arr2):\n",
    "    print(\"arr2 is a subset of arr1\")\n",
    "else:\n",
    "    print(\"arr2 is not a subset of arr1\")"
   ]
  },
  {
   "cell_type": "code",
   "execution_count": 8,
   "id": "458befc1-d6b3-4568-873b-2f2df243cd7f",
   "metadata": {},
   "outputs": [
    {
     "name": "stdout",
     "output_type": "stream",
     "text": [
      "10106060\n"
     ]
    }
   ],
   "source": [
    "# Wap to concate all duplicate numbers in an array.\n",
    "# Input:[10, 30, 10, 20, 10, 20, 30, 10]  \n",
    "\n",
    "arr = [10, 30, 10, 20, 10, 20, 30, 10]\n",
    "sum_of_duplicates = 0\n",
    "frequency = {}\n",
    "\n",
    "for num in arr:\n",
    "    if num in frequency:\n",
    "        frequency[num] += 1\n",
    "    else:\n",
    "        frequency[num] = 1\n",
    "\n",
    "for num, count in frequency.items():\n",
    "    if count > 1:\n",
    "        concatenated_number = int(str(num) * count)\n",
    "        sum_of_duplicates += concatenated_number\n",
    "\n",
    "print(sum_of_duplicates)"
   ]
  },
  {
   "cell_type": "code",
   "execution_count": 10,
   "id": "875a1237-63b8-4051-9c4c-32e37b0e639e",
   "metadata": {},
   "outputs": [
    {
     "name": "stdout",
     "output_type": "stream",
     "text": [
      "2323\n"
     ]
    }
   ],
   "source": [
    "arr = [23, 33, 200, 785,23]\n",
    "sum_of_duplicates = 0\n",
    "freq = {}\n",
    "\n",
    "for num in arr:\n",
    "    if num in freq:\n",
    "        freq[num] += 1\n",
    "    else:\n",
    "        freq[num] = 1\n",
    "\n",
    "for num, count in freq.items():\n",
    "    if count > 1:\n",
    "        concatenated_number = int(str(num) * count)\n",
    "        sum_of_duplicates += concatenated_number\n",
    "\n",
    "print(sum_of_duplicates)\n"
   ]
  },
  {
   "cell_type": "code",
   "execution_count": 14,
   "id": "66faf212-3c72-477c-9ae2-bb304e4689a5",
   "metadata": {},
   "outputs": [
    {
     "name": "stdout",
     "output_type": "stream",
     "text": [
      "Output: 3 pairs\n",
      "Output: 4 pairs\n"
     ]
    }
   ],
   "source": [
    "# 20) Wap to print the number of pairs formed by the array of elements\n",
    "#  Input: 10 20 10 30 20 20\t  Output: 2 pairs\n",
    "#  Input: 30 50 30 50 20 50 50 20 50 50    Output : 5 pairs\n",
    "\n",
    "def count_pairs(arr):\n",
    "    frequency = {}\n",
    "    pairs = 0\n",
    "\n",
    "    for num in arr:\n",
    "        if num in frequency:\n",
    "            frequency[num] += 1\n",
    "        else:\n",
    "            frequency[num] = 1\n",
    "\n",
    "    for count in frequency.values():\n",
    "        pairs += count // 2\n",
    "\n",
    "    return pairs\n",
    "\n",
    "arr1 = [1,2,3,1,2,3]\n",
    "arr2 = [1,3,5,7,9,11,13,2,3,5,7,11]\n",
    "\n",
    "print(f'Output: {count_pairs(arr1)} pairs') \n",
    "print(f'Output: {count_pairs(arr2)} pairs')"
   ]
  },
  {
   "cell_type": "code",
   "execution_count": null,
   "id": "eec52b1d-5900-4467-87c7-f4a54e967104",
   "metadata": {},
   "outputs": [],
   "source": []
  }
 ],
 "metadata": {
  "kernelspec": {
   "display_name": "Python 3 (ipykernel)",
   "language": "python",
   "name": "python3"
  },
  "language_info": {
   "codemirror_mode": {
    "name": "ipython",
    "version": 3
   },
   "file_extension": ".py",
   "mimetype": "text/x-python",
   "name": "python",
   "nbconvert_exporter": "python",
   "pygments_lexer": "ipython3",
   "version": "3.11.7"
  }
 },
 "nbformat": 4,
 "nbformat_minor": 5
}
