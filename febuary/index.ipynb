{
 "cells": [
  {
   "cell_type": "code",
   "execution_count": 2,
   "metadata": {},
   "outputs": [
    {
     "name": "stdout",
     "output_type": "stream",
     "text": [
      "8  is a positive number\n"
     ]
    }
   ],
   "source": [
    "num = int(input(\"enter a number : \"))\n",
    "if num>0:\n",
    "    print(num,\" is a positive number\")\n",
    "elif num == 0:\n",
    "    print(num,\" is a zero\")\n",
    "else:\n",
    "    print(num,\" is a negative number \")       "
   ]
  },
  {
   "cell_type": "code",
   "execution_count": 5,
   "metadata": {},
   "outputs": [
    {
     "name": "stdout",
     "output_type": "stream",
     "text": [
      "5  is odd number\n"
     ]
    }
   ],
   "source": [
    "num = int(input(\"enter a number\"))\n",
    "if num %2 == 0:\n",
    "    print(num,\" is even number\")\n",
    "else:\n",
    "    print(num,\" is odd number\")    "
   ]
  },
  {
   "cell_type": "code",
   "execution_count": null,
   "metadata": {},
   "outputs": [
    {
     "name": "stdout",
     "output_type": "stream",
     "text": [
      "ur eligible to vote\n"
     ]
    }
   ],
   "source": [
    "age = int(input(\"enter ur age : \"))\n",
    "if age >18:\n",
    "    print(\"Ur eligible to vote\")\n",
    "else:\n",
    "    print(\"Ur not eligible to vote\")    "
   ]
  },
  {
   "cell_type": "code",
   "execution_count": 6,
   "metadata": {},
   "outputs": [
    {
     "name": "stdout",
     "output_type": "stream",
     "text": [
      "19  is greater than  5\n"
     ]
    }
   ],
   "source": [
    "num1 = int(input(\"enter number1 : \"))\n",
    "num2 = int(input(\"enter number2 : \"))\n",
    "if num1>num2:\n",
    "    print(num1,\" is greater than \",num2)\n",
    "else:\n",
    "    print(num2,\" is greater than \",num1)    "
   ]
  },
  {
   "cell_type": "code",
   "execution_count": 7,
   "metadata": {},
   "outputs": [
    {
     "name": "stdout",
     "output_type": "stream",
     "text": [
      "Ur passed\n"
     ]
    }
   ],
   "source": [
    "marks = int(input(\"enter ur marks :\"))\n",
    "if marks >40:\n",
    "    print(\"Ur passed\")\n",
    "else:\n",
    "    print(\"Ur failed\")    "
   ]
  },
  {
   "cell_type": "code",
   "execution_count": 10,
   "metadata": {},
   "outputs": [
    {
     "name": "stdout",
     "output_type": "stream",
     "text": [
      "its thursday\n"
     ]
    }
   ],
   "source": [
    "week_num = int(input(\"enter a number from 1 to 7 :\"))\n",
    "if week_num == 1:\n",
    "    print(\"its monday\")\n",
    "elif week_num == 2:\n",
    "    print(\"its tuesday\") \n",
    "elif week_num == 3:\n",
    "    print(\"its wednessdday\") \n",
    "elif week_num == 4:\n",
    "    print(\"its thursday\") \n",
    "elif week_num == 5:\n",
    "    print(\"its friday\") \n",
    "elif week_num == 6:\n",
    "    print(\"its saturday\") \n",
    "elif week_num == 7:\n",
    "    print(\"its sunday \")\n",
    "else:\n",
    "    print(\"try to enter a number from 1 to 7\")  \n",
    "                                   \n",
    "    "
   ]
  },
  {
   "cell_type": "code",
   "execution_count": 15,
   "metadata": {},
   "outputs": [
    {
     "name": "stdout",
     "output_type": "stream",
     "text": [
      "14.0\n"
     ]
    }
   ],
   "source": [
    "num1 = float(input(\"enter a number1 :\"))\n",
    "operator = input(\"enter any operations [add,sub,mul,div,] :\").lower()\n",
    "num2 = float(input(\"enter a number2 : \"))\n",
    "if operator == \"add\":\n",
    "    print(num1+num2)\n",
    "elif operator == \"sub\":\n",
    "    print(num1-num2)\n",
    "elif operator == \"mul\":\n",
    "    print(num1*num2)\n",
    "elif operator == \"div\":\n",
    "    if num2 == 0:\n",
    "        print(\"division of zero is not possible\")\n",
    "    else:\n",
    "        print(num1//num2)\n",
    "else:\n",
    "    print(\"enter a proper operator\")\n",
    "                        \n",
    "        "
   ]
  },
  {
   "cell_type": "code",
   "execution_count": 16,
   "metadata": {},
   "outputs": [
    {
     "name": "stdout",
     "output_type": "stream",
     "text": [
      "its december\n"
     ]
    }
   ],
   "source": [
    "month = int(input(\"enter a number from 1 to 12 : \"))\n",
    "if month == 1:\n",
    "    print(\"its january\")\n",
    "elif month == 2:\n",
    "    print(\"its febuary\")\n",
    "elif month == 3:\n",
    "    print(\"its march\")   \n",
    "elif month == 4:\n",
    "    print(\"its april\")\n",
    "elif month == 5:\n",
    "    print(\"its may\")\n",
    "elif month == 6:\n",
    "    print(\"its june\")\n",
    "elif month == 7:\n",
    "    print(\"its july\")\n",
    "elif month == 8:\n",
    "    print(\"its august\")\n",
    "elif month == 9:\n",
    "    print(\"its september\")\n",
    "elif month == 10:\n",
    "    print(\"its octomber\")\n",
    "elif month == 11:\n",
    "    print(\"its november\") \n",
    "elif month == 12:\n",
    "    print(\"its december\")\n",
    "else:\n",
    "    print(\"please enter number from 1 to 12\")            "
   ]
  },
  {
   "cell_type": "code",
   "execution_count": null,
   "metadata": {},
   "outputs": [
    {
     "name": "stdout",
     "output_type": "stream",
     "text": [
      "7  is a prime number \n"
     ]
    }
   ],
   "source": [
    "# prime number.....\n",
    "num = int(input(\"enter a number : \"))\n",
    "count = 0\n",
    "for i in range(2,num+1):\n",
    "    if num%i==0:\n",
    "        count += 1\n",
    "if count ==1:\n",
    "    print(num,\" is a prime number \") \n",
    "else:\n",
    "    print(num, \" is not prime number\")           \n",
    "        "
   ]
  },
  {
   "cell_type": "code",
   "execution_count": 19,
   "metadata": {},
   "outputs": [
    {
     "name": "stdout",
     "output_type": "stream",
     "text": [
      "2012  is a leap year\n"
     ]
    }
   ],
   "source": [
    "# leap year ................\n",
    "year  = int(input(\"enter a year : \"))\n",
    "if (year%4==0 and year%100 !=0) or year%400 == 0:\n",
    "    print(year, \" is a leap year\")\n",
    "else:\n",
    "    print(year, \"is not leap year\")    "
   ]
  },
  {
   "cell_type": "code",
   "execution_count": null,
   "metadata": {},
   "outputs": [
    {
     "name": "stdout",
     "output_type": "stream",
     "text": [
      "8  is not perfect number..\n"
     ]
    }
   ],
   "source": [
    "# perfect number......\n",
    "number = int(input(\"enter a number\"))\n",
    "count = 0\n",
    "for i in range(1,number):\n",
    "    if(number%i==0):\n",
    "        count +=i\n",
    "if(number==count):\n",
    "    print(number,\" is perfect number..\")    \n",
    "else:\n",
    "    print(number,\" is not perfect number..\")"
   ]
  },
  {
   "cell_type": "code",
   "execution_count": 32,
   "metadata": {},
   "outputs": [
    {
     "name": "stdout",
     "output_type": "stream",
     "text": [
      "153  is a armstrong number\n"
     ]
    }
   ],
   "source": [
    "# armstrong number..............\n",
    "number = int(input(\"enter a number :\"))\n",
    "temp = number\n",
    "count = 0\n",
    "while temp >0:\n",
    "    rem = temp %10\n",
    "    count += rem ** len(str(number))\n",
    "    temp = temp//10\n",
    "if number == count:\n",
    "    print(number,\" is a armstrong number\")\n",
    "else:\n",
    "    print(number,\" is not armstrong number\")    "
   ]
  },
  {
   "cell_type": "code",
   "execution_count": null,
   "metadata": {},
   "outputs": [],
   "source": []
  }
 ],
 "metadata": {
  "kernelspec": {
   "display_name": "base",
   "language": "python",
   "name": "python3"
  },
  "language_info": {
   "codemirror_mode": {
    "name": "ipython",
    "version": 3
   },
   "file_extension": ".py",
   "mimetype": "text/x-python",
   "name": "python",
   "nbconvert_exporter": "python",
   "pygments_lexer": "ipython3",
   "version": "3.11.7"
  }
 },
 "nbformat": 4,
 "nbformat_minor": 2
}
